{
 "cells": [
  {
   "cell_type": "code",
   "execution_count": 1,
   "id": "9550bd5a-34b5-415d-b6aa-bf2ca24ba3bd",
   "metadata": {},
   "outputs": [
    {
     "name": "stderr",
     "output_type": "stream",
     "text": [
      "D:\\oneNeuron\\Pytorch\\Pytorch-basics\\env\\lib\\site-packages\\tqdm\\auto.py:22: TqdmWarning: IProgress not found. Please update jupyter and ipywidgets. See https://ipywidgets.readthedocs.io/en/stable/user_install.html\n",
      "  from .autonotebook import tqdm as notebook_tqdm\n"
     ]
    }
   ],
   "source": [
    "import os\n",
    "import torch \n",
    "import torch.nn as nn\n",
    "import torch.nn.functional as F\n",
    "from torchvision import models, datasets, transforms\n",
    "from torch.utils.data import DataLoader\n",
    "\n",
    "import pandas as pd\n",
    "import numpy as np \n",
    "import matplotlib.pyplot as plt \n",
    "import seaborn as sns\n",
    "from sklearn.metrics import confusion_matrix\n",
    "from tqdm import tqdm\n",
    "import urllib.request as req\n",
    "plt.style.use('fivethirtyeight')"
   ]
  },
  {
   "cell_type": "markdown",
   "id": "cd966087-46e9-4aaf-8b06-ad6e7d6d470f",
   "metadata": {},
   "source": [
    "## Download data"
   ]
  },
  {
   "cell_type": "code",
   "execution_count": 2,
   "id": "97bf46b5-f3fd-4916-bd8a-2b5d880ec625",
   "metadata": {},
   "outputs": [],
   "source": [
    "data_URL = \"https://download.pytorch.org/tutorial/hymenoptera_data.zip\""
   ]
  },
  {
   "cell_type": "code",
   "execution_count": 3,
   "id": "83c10a11-2baf-4241-9794-c87208645e5f",
   "metadata": {},
   "outputs": [
    {
     "name": "stdout",
     "output_type": "stream",
     "text": [
      "hymenoptera_data directory created\n"
     ]
    }
   ],
   "source": [
    "# create a directory\n",
    "def create_dirs(dir_path):\n",
    "    os.makedirs(dir_path, exist_ok=True)\n",
    "    print(f\"{dir_path} directory created\")\n",
    "    \n",
    "ROOT_DATA_DIR = \"hymenoptera_data\"\n",
    "create_dirs(ROOT_DATA_DIR)"
   ]
  },
  {
   "cell_type": "code",
   "execution_count": 4,
   "id": "c01b0dea-6ff1-4094-a0b8-058ded4c29f1",
   "metadata": {},
   "outputs": [
    {
     "name": "stdout",
     "output_type": "stream",
     "text": [
      "downloading data...\n",
      "filename: hymenoptera_data\\data.zip created with info \n",
      "Content-Type: application/zip\n",
      "Content-Length: 47286322\n",
      "Connection: close\n",
      "Date: Fri, 11 Mar 2022 11:26:26 GMT\n",
      "Last-Modified: Wed, 15 Mar 2017 18:46:00 GMT\n",
      "ETag: \"5f8c32a6554f6acb4d649776e7735e48\"\n",
      "x-amz-version-id: null\n",
      "Accept-Ranges: bytes\n",
      "Server: AmazonS3\n",
      "X-Cache: Hit from cloudfront\n",
      "Via: 1.1 940482e8695da5fdb5cf0f4bf9f97420.cloudfront.net (CloudFront)\n",
      "X-Amz-Cf-Pop: BLR50-C1\n",
      "X-Amz-Cf-Id: TXhxd-X7q_2ss6aOFcvGw-lnemoXUJiiRmxtPCeWquZTjllb23QFZg==\n",
      "Age: 16918\n",
      "\n",
      "\n"
     ]
    }
   ],
   "source": [
    "data_zip_file = \"data.zip\"\n",
    "data_zip_path = os.path.join(ROOT_DATA_DIR, data_zip_file)\n",
    "\n",
    "if not os.path.isfile(data_zip_file):\n",
    "    print(\"downloading data...\")\n",
    "    filename, headers = req.urlretrieve(data_URL, data_zip_path)\n",
    "    print(f\"filename: {filename} created with info \\n{headers}\")\n",
    "else:\n",
    "    print(f\"file is already present\")"
   ]
  },
  {
   "cell_type": "markdown",
   "id": "86e20203-3dc9-4009-8ba0-e0a30fbaf28e",
   "metadata": {},
   "source": [
    "## Unzip data"
   ]
  },
  {
   "cell_type": "code",
   "execution_count": 5,
   "id": "47ad877f-1263-4ed4-9729-dba5b8484ccc",
   "metadata": {},
   "outputs": [
    {
     "name": "stdout",
     "output_type": "stream",
     "text": [
      "data already extacted\n"
     ]
    }
   ],
   "source": [
    "from zipfile import ZipFile\n",
    "\n",
    "unzip_data_dirname = \"unzip_data_dir\"\n",
    "unzip_data_dir = os.path.join(ROOT_DATA_DIR, unzip_data_dirname)\n",
    "\n",
    "if not os.path.exists(unzip_data_dir):\n",
    "    os.makedirs(unzip_data_dir, exist_ok=True)\n",
    "    with ZipFile(data_zip_path) as f:\n",
    "        f.extractall(unzip_data_dir)\n",
    "else:\n",
    "    print(f\"data already extacted\")"
   ]
  },
  {
   "cell_type": "code",
   "execution_count": null,
   "id": "8667fdf7-3c6a-4676-af54-e51d94e23b58",
   "metadata": {},
   "outputs": [],
   "source": []
  },
  {
   "cell_type": "markdown",
   "id": "e887bdd9-9e0d-4f60-be98-cf47c0b60185",
   "metadata": {},
   "source": [
    "## Create data loaders"
   ]
  },
  {
   "cell_type": "code",
   "execution_count": 6,
   "id": "6400e8d4-3926-4a7c-9670-8b35a52aca74",
   "metadata": {},
   "outputs": [],
   "source": [
    "from pathlib import Path"
   ]
  },
  {
   "cell_type": "code",
   "execution_count": 7,
   "id": "a7ec05a5-8c31-46ba-9a46-95bbd50dc666",
   "metadata": {},
   "outputs": [],
   "source": [
    "train_path = Path(\"hymenoptera_data/unzip_data_dir/hymenoptera_data/train\")\n",
    "test_path = Path(\"hymenoptera_data/unzip_data_dir/hymenoptera_data/val\")"
   ]
  },
  {
   "cell_type": "code",
   "execution_count": 8,
   "id": "b68eff04-125e-43bf-94b3-616cb374aa9d",
   "metadata": {},
   "outputs": [],
   "source": [
    "img_size = (224, 224)"
   ]
  },
  {
   "cell_type": "code",
   "execution_count": 9,
   "id": "177183a7-df46-4d1e-a2d7-43a90a1fbd9d",
   "metadata": {},
   "outputs": [],
   "source": [
    "mean = torch.tensor([0.5, 0.5, 0.5])\n",
    "std = torch.tensor([0.5, 0.5, 0.5])"
   ]
  },
  {
   "cell_type": "markdown",
   "id": "a76fcc8e-d435-4106-89b1-04bd5530a7fe",
   "metadata": {},
   "source": [
    "### Transformations"
   ]
  },
  {
   "cell_type": "code",
   "execution_count": 10,
   "id": "1b05a074-50b4-4cde-a9c9-d44706bf8718",
   "metadata": {},
   "outputs": [],
   "source": [
    "train_transforms = transforms.Compose([\n",
    "    transforms.Resize(img_size),\n",
    "    transforms.RandomRotation(degrees=20),\n",
    "    transforms.ToTensor(),\n",
    "    transforms.Normalize(mean, std)\n",
    "])\n",
    "\n",
    "test_transforms = transforms.Compose([\n",
    "    transforms.Resize(img_size),\n",
    "    transforms.ToTensor(),\n",
    "    transforms.Normalize(mean, std)\n",
    "])"
   ]
  },
  {
   "cell_type": "code",
   "execution_count": 11,
   "id": "2d04a935-e8b7-44bd-845c-3880e3a4edbd",
   "metadata": {},
   "outputs": [],
   "source": [
    "train_data = datasets.ImageFolder(root=train_path, transform=train_transforms)\n",
    "test_data = datasets.ImageFolder(root=test_path, transform=test_transforms)"
   ]
  },
  {
   "cell_type": "code",
   "execution_count": 12,
   "id": "0883fce9-2ded-4d1c-b81d-1bb6094c6f44",
   "metadata": {},
   "outputs": [
    {
     "data": {
      "text/plain": [
       "{'ants': 0, 'bees': 1}"
      ]
     },
     "execution_count": 12,
     "metadata": {},
     "output_type": "execute_result"
    }
   ],
   "source": [
    "train_data.class_to_idx"
   ]
  },
  {
   "cell_type": "code",
   "execution_count": 13,
   "id": "fa1c95eb-9b09-4fba-b48d-bf3b00ea95a4",
   "metadata": {},
   "outputs": [
    {
     "data": {
      "text/plain": [
       "{'ants': 0, 'bees': 1}"
      ]
     },
     "execution_count": 13,
     "metadata": {},
     "output_type": "execute_result"
    }
   ],
   "source": [
    "label_map = train_data.class_to_idx\n",
    "label_map"
   ]
  },
  {
   "cell_type": "code",
   "execution_count": 14,
   "id": "7f2b14d8-8ee1-4ae6-b2f1-63122daffd3c",
   "metadata": {},
   "outputs": [
    {
     "data": {
      "text/plain": [
       "Dataset ImageFolder\n",
       "    Number of datapoints: 244\n",
       "    Root location: hymenoptera_data\\unzip_data_dir\\hymenoptera_data\\train\n",
       "    StandardTransform\n",
       "Transform: Compose(\n",
       "               Resize(size=(224, 224), interpolation=bilinear, max_size=None, antialias=None)\n",
       "               RandomRotation(degrees=[-20.0, 20.0], interpolation=nearest, expand=False, fill=0)\n",
       "               ToTensor()\n",
       "               Normalize(mean=tensor([0.5000, 0.5000, 0.5000]), std=tensor([0.5000, 0.5000, 0.5000]))\n",
       "           )"
      ]
     },
     "execution_count": 14,
     "metadata": {},
     "output_type": "execute_result"
    }
   ],
   "source": [
    "train_data"
   ]
  },
  {
   "cell_type": "code",
   "execution_count": 15,
   "id": "98f06f1e-72a0-47c7-b0a5-0b8688cab929",
   "metadata": {},
   "outputs": [],
   "source": [
    "batch_size = 64\n",
    "\n",
    "train_loader = DataLoader(train_data, shuffle=True, batch_size=batch_size)\n",
    "test_loader = DataLoader(test_data, shuffle=False, batch_size=batch_size)"
   ]
  },
  {
   "cell_type": "code",
   "execution_count": 16,
   "id": "e383d78c-1f28-4d5d-8a15-cce068d49258",
   "metadata": {},
   "outputs": [],
   "source": [
    "data = next(iter(train_loader))"
   ]
  },
  {
   "cell_type": "code",
   "execution_count": 17,
   "id": "aed223e0-715e-4dfe-8faf-ddca6b95b187",
   "metadata": {},
   "outputs": [
    {
     "data": {
      "text/plain": [
       "2"
      ]
     },
     "execution_count": 17,
     "metadata": {},
     "output_type": "execute_result"
    }
   ],
   "source": [
    "len(data)"
   ]
  },
  {
   "cell_type": "code",
   "execution_count": 18,
   "id": "4a842d1a-e6b8-454e-a176-803831b169d7",
   "metadata": {},
   "outputs": [],
   "source": [
    "images, labels = data"
   ]
  },
  {
   "cell_type": "code",
   "execution_count": 19,
   "id": "67d0d7da-bacc-4732-a704-2b819a5d01ef",
   "metadata": {},
   "outputs": [
    {
     "data": {
      "text/plain": [
       "torch.Size([64, 3, 224, 224])"
      ]
     },
     "execution_count": 19,
     "metadata": {},
     "output_type": "execute_result"
    }
   ],
   "source": [
    "images.shape"
   ]
  },
  {
   "cell_type": "code",
   "execution_count": 20,
   "id": "2fcef7f8-4b52-470a-91dd-16c0c7722829",
   "metadata": {},
   "outputs": [
    {
     "data": {
      "text/plain": [
       "torch.Size([64])"
      ]
     },
     "execution_count": 20,
     "metadata": {},
     "output_type": "execute_result"
    }
   ],
   "source": [
    "labels.shape"
   ]
  },
  {
   "cell_type": "markdown",
   "id": "676d295f-df27-4f01-b6e4-99a7a642cbf0",
   "metadata": {},
   "source": [
    "## Download and use pre-trained model for transfer learning"
   ]
  },
  {
   "cell_type": "code",
   "execution_count": 21,
   "id": "2b97c6ac-4d9b-44e3-a768-f794a5762bd7",
   "metadata": {},
   "outputs": [],
   "source": [
    "model = models.alexnet(pretrained=True)"
   ]
  },
  {
   "cell_type": "code",
   "execution_count": 22,
   "id": "2d6413aa-2da7-468e-b423-62c4a7dc1017",
   "metadata": {},
   "outputs": [
    {
     "name": "stdout",
     "output_type": "stream",
     "text": [
      "AlexNet(\n",
      "  (features): Sequential(\n",
      "    (0): Conv2d(3, 64, kernel_size=(11, 11), stride=(4, 4), padding=(2, 2))\n",
      "    (1): ReLU(inplace=True)\n",
      "    (2): MaxPool2d(kernel_size=3, stride=2, padding=0, dilation=1, ceil_mode=False)\n",
      "    (3): Conv2d(64, 192, kernel_size=(5, 5), stride=(1, 1), padding=(2, 2))\n",
      "    (4): ReLU(inplace=True)\n",
      "    (5): MaxPool2d(kernel_size=3, stride=2, padding=0, dilation=1, ceil_mode=False)\n",
      "    (6): Conv2d(192, 384, kernel_size=(3, 3), stride=(1, 1), padding=(1, 1))\n",
      "    (7): ReLU(inplace=True)\n",
      "    (8): Conv2d(384, 256, kernel_size=(3, 3), stride=(1, 1), padding=(1, 1))\n",
      "    (9): ReLU(inplace=True)\n",
      "    (10): Conv2d(256, 256, kernel_size=(3, 3), stride=(1, 1), padding=(1, 1))\n",
      "    (11): ReLU(inplace=True)\n",
      "    (12): MaxPool2d(kernel_size=3, stride=2, padding=0, dilation=1, ceil_mode=False)\n",
      "  )\n",
      "  (avgpool): AdaptiveAvgPool2d(output_size=(6, 6))\n",
      "  (classifier): Sequential(\n",
      "    (0): Dropout(p=0.5, inplace=False)\n",
      "    (1): Linear(in_features=9216, out_features=4096, bias=True)\n",
      "    (2): ReLU(inplace=True)\n",
      "    (3): Dropout(p=0.5, inplace=False)\n",
      "    (4): Linear(in_features=4096, out_features=4096, bias=True)\n",
      "    (5): ReLU(inplace=True)\n",
      "    (6): Linear(in_features=4096, out_features=1000, bias=True)\n",
      "  )\n",
      ")\n"
     ]
    }
   ],
   "source": [
    "print(model)"
   ]
  },
  {
   "cell_type": "code",
   "execution_count": 23,
   "id": "a41f47b5-e6ed-4369-8d71-b05c215700f3",
   "metadata": {},
   "outputs": [
    {
     "data": {
      "text/html": [
       "<style type=\"text/css\">\n",
       "</style>\n",
       "<table id=\"T_eb875_\">\n",
       "  <caption>Total trainable: 61100840, non trainable: 0 </caption>\n",
       "  <thead>\n",
       "    <tr>\n",
       "      <th class=\"blank level0\" >&nbsp;</th>\n",
       "      <th class=\"col_heading level0 col0\" >Modules</th>\n",
       "      <th class=\"col_heading level0 col1\" >Parameters</th>\n",
       "    </tr>\n",
       "  </thead>\n",
       "  <tbody>\n",
       "    <tr>\n",
       "      <th id=\"T_eb875_level0_row0\" class=\"row_heading level0 row0\" >0</th>\n",
       "      <td id=\"T_eb875_row0_col0\" class=\"data row0 col0\" >features.0.weight</td>\n",
       "      <td id=\"T_eb875_row0_col1\" class=\"data row0 col1\" >23232</td>\n",
       "    </tr>\n",
       "    <tr>\n",
       "      <th id=\"T_eb875_level0_row1\" class=\"row_heading level0 row1\" >1</th>\n",
       "      <td id=\"T_eb875_row1_col0\" class=\"data row1 col0\" >features.0.bias</td>\n",
       "      <td id=\"T_eb875_row1_col1\" class=\"data row1 col1\" >64</td>\n",
       "    </tr>\n",
       "    <tr>\n",
       "      <th id=\"T_eb875_level0_row2\" class=\"row_heading level0 row2\" >2</th>\n",
       "      <td id=\"T_eb875_row2_col0\" class=\"data row2 col0\" >features.3.weight</td>\n",
       "      <td id=\"T_eb875_row2_col1\" class=\"data row2 col1\" >307200</td>\n",
       "    </tr>\n",
       "    <tr>\n",
       "      <th id=\"T_eb875_level0_row3\" class=\"row_heading level0 row3\" >3</th>\n",
       "      <td id=\"T_eb875_row3_col0\" class=\"data row3 col0\" >features.3.bias</td>\n",
       "      <td id=\"T_eb875_row3_col1\" class=\"data row3 col1\" >192</td>\n",
       "    </tr>\n",
       "    <tr>\n",
       "      <th id=\"T_eb875_level0_row4\" class=\"row_heading level0 row4\" >4</th>\n",
       "      <td id=\"T_eb875_row4_col0\" class=\"data row4 col0\" >features.6.weight</td>\n",
       "      <td id=\"T_eb875_row4_col1\" class=\"data row4 col1\" >663552</td>\n",
       "    </tr>\n",
       "    <tr>\n",
       "      <th id=\"T_eb875_level0_row5\" class=\"row_heading level0 row5\" >5</th>\n",
       "      <td id=\"T_eb875_row5_col0\" class=\"data row5 col0\" >features.6.bias</td>\n",
       "      <td id=\"T_eb875_row5_col1\" class=\"data row5 col1\" >384</td>\n",
       "    </tr>\n",
       "    <tr>\n",
       "      <th id=\"T_eb875_level0_row6\" class=\"row_heading level0 row6\" >6</th>\n",
       "      <td id=\"T_eb875_row6_col0\" class=\"data row6 col0\" >features.8.weight</td>\n",
       "      <td id=\"T_eb875_row6_col1\" class=\"data row6 col1\" >884736</td>\n",
       "    </tr>\n",
       "    <tr>\n",
       "      <th id=\"T_eb875_level0_row7\" class=\"row_heading level0 row7\" >7</th>\n",
       "      <td id=\"T_eb875_row7_col0\" class=\"data row7 col0\" >features.8.bias</td>\n",
       "      <td id=\"T_eb875_row7_col1\" class=\"data row7 col1\" >256</td>\n",
       "    </tr>\n",
       "    <tr>\n",
       "      <th id=\"T_eb875_level0_row8\" class=\"row_heading level0 row8\" >8</th>\n",
       "      <td id=\"T_eb875_row8_col0\" class=\"data row8 col0\" >features.10.weight</td>\n",
       "      <td id=\"T_eb875_row8_col1\" class=\"data row8 col1\" >589824</td>\n",
       "    </tr>\n",
       "    <tr>\n",
       "      <th id=\"T_eb875_level0_row9\" class=\"row_heading level0 row9\" >9</th>\n",
       "      <td id=\"T_eb875_row9_col0\" class=\"data row9 col0\" >features.10.bias</td>\n",
       "      <td id=\"T_eb875_row9_col1\" class=\"data row9 col1\" >256</td>\n",
       "    </tr>\n",
       "    <tr>\n",
       "      <th id=\"T_eb875_level0_row10\" class=\"row_heading level0 row10\" >10</th>\n",
       "      <td id=\"T_eb875_row10_col0\" class=\"data row10 col0\" >classifier.1.weight</td>\n",
       "      <td id=\"T_eb875_row10_col1\" class=\"data row10 col1\" >37748736</td>\n",
       "    </tr>\n",
       "    <tr>\n",
       "      <th id=\"T_eb875_level0_row11\" class=\"row_heading level0 row11\" >11</th>\n",
       "      <td id=\"T_eb875_row11_col0\" class=\"data row11 col0\" >classifier.1.bias</td>\n",
       "      <td id=\"T_eb875_row11_col1\" class=\"data row11 col1\" >4096</td>\n",
       "    </tr>\n",
       "    <tr>\n",
       "      <th id=\"T_eb875_level0_row12\" class=\"row_heading level0 row12\" >12</th>\n",
       "      <td id=\"T_eb875_row12_col0\" class=\"data row12 col0\" >classifier.4.weight</td>\n",
       "      <td id=\"T_eb875_row12_col1\" class=\"data row12 col1\" >16777216</td>\n",
       "    </tr>\n",
       "    <tr>\n",
       "      <th id=\"T_eb875_level0_row13\" class=\"row_heading level0 row13\" >13</th>\n",
       "      <td id=\"T_eb875_row13_col0\" class=\"data row13 col0\" >classifier.4.bias</td>\n",
       "      <td id=\"T_eb875_row13_col1\" class=\"data row13 col1\" >4096</td>\n",
       "    </tr>\n",
       "    <tr>\n",
       "      <th id=\"T_eb875_level0_row14\" class=\"row_heading level0 row14\" >14</th>\n",
       "      <td id=\"T_eb875_row14_col0\" class=\"data row14 col0\" >classifier.6.weight</td>\n",
       "      <td id=\"T_eb875_row14_col1\" class=\"data row14 col1\" >4096000</td>\n",
       "    </tr>\n",
       "    <tr>\n",
       "      <th id=\"T_eb875_level0_row15\" class=\"row_heading level0 row15\" >15</th>\n",
       "      <td id=\"T_eb875_row15_col0\" class=\"data row15 col0\" >classifier.6.bias</td>\n",
       "      <td id=\"T_eb875_row15_col1\" class=\"data row15 col1\" >1000</td>\n",
       "    </tr>\n",
       "  </tbody>\n",
       "</table>\n"
      ],
      "text/plain": [
       "<pandas.io.formats.style.Styler at 0x2f8323288c8>"
      ]
     },
     "execution_count": 23,
     "metadata": {},
     "output_type": "execute_result"
    }
   ],
   "source": [
    "def count_both_params(model):\n",
    "    model_params = {\"Modules\": list(), \"Parameters\": list()}\n",
    "    total = {\"trainable\": 0, \"non_trainable\": 0}\n",
    "    \n",
    "    for name, parameters in model.named_parameters():\n",
    "        param = parameters.numel()\n",
    "        if not parameters.requires_grad:\n",
    "            total[\"non_trainable\"] += param\n",
    "            continue\n",
    "        model_params[\"Modules\"].append(name)\n",
    "        model_params[\"Parameters\"].append(param)\n",
    "        total[\"trainable\"] += param\n",
    "    df = pd.DataFrame(model_params)\n",
    "    df = df.style.set_caption(f\"\"\"Total trainable: {total[\"trainable\"]}, non trainable: {total[\"non_trainable\"]} \"\"\")\n",
    "    return df\n",
    "\n",
    "count_both_params(model)"
   ]
  },
  {
   "cell_type": "code",
   "execution_count": 24,
   "id": "f3e57740-50c3-414e-b96f-1e2d913c06e7",
   "metadata": {},
   "outputs": [],
   "source": [
    "# Freezing all the model layers\n",
    "for parameters in model.parameters():\n",
    "    parameters.requires_grad = False"
   ]
  },
  {
   "cell_type": "code",
   "execution_count": 25,
   "id": "2334e231-6e2d-45f8-bd62-3036ebbead34",
   "metadata": {},
   "outputs": [
    {
     "data": {
      "text/html": [
       "<style type=\"text/css\">\n",
       "</style>\n",
       "<table id=\"T_95e11_\">\n",
       "  <caption>Total trainable: 0, non trainable: 61100840 </caption>\n",
       "  <thead>\n",
       "    <tr>\n",
       "      <th class=\"blank level0\" >&nbsp;</th>\n",
       "      <th class=\"col_heading level0 col0\" >Modules</th>\n",
       "      <th class=\"col_heading level0 col1\" >Parameters</th>\n",
       "    </tr>\n",
       "  </thead>\n",
       "  <tbody>\n",
       "  </tbody>\n",
       "</table>\n"
      ],
      "text/plain": [
       "<pandas.io.formats.style.Styler at 0x2f81f4ff048>"
      ]
     },
     "execution_count": 25,
     "metadata": {},
     "output_type": "execute_result"
    }
   ],
   "source": [
    "count_both_params(model)"
   ]
  },
  {
   "cell_type": "code",
   "execution_count": 26,
   "id": "7e2b8357-15ba-4c30-962c-4b41b4bc2c94",
   "metadata": {},
   "outputs": [
    {
     "data": {
      "text/plain": [
       "Sequential(\n",
       "  (0): Dropout(p=0.5, inplace=False)\n",
       "  (1): Linear(in_features=9216, out_features=4096, bias=True)\n",
       "  (2): ReLU(inplace=True)\n",
       "  (3): Dropout(p=0.5, inplace=False)\n",
       "  (4): Linear(in_features=4096, out_features=4096, bias=True)\n",
       "  (5): ReLU(inplace=True)\n",
       "  (6): Linear(in_features=4096, out_features=1000, bias=True)\n",
       ")"
      ]
     },
     "execution_count": 26,
     "metadata": {},
     "output_type": "execute_result"
    }
   ],
   "source": [
    "model.classifier"
   ]
  },
  {
   "cell_type": "code",
   "execution_count": 27,
   "id": "eb732e18-bf6b-4824-b2f6-a7401c8ac632",
   "metadata": {},
   "outputs": [],
   "source": [
    "model.classifier = nn.Sequential(\n",
    "    nn.Linear(in_features=9216, out_features=100, bias=True),\n",
    "    nn.ReLU(inplace=True),\n",
    "    nn.Dropout(p=0.5, inplace=False),\n",
    "    nn.Linear(in_features=100, out_features=2, bias=True)\n",
    ")"
   ]
  },
  {
   "cell_type": "code",
   "execution_count": 28,
   "id": "8dba5858-9c0f-4859-8241-0d0d055b6b0b",
   "metadata": {},
   "outputs": [
    {
     "name": "stdout",
     "output_type": "stream",
     "text": [
      "AlexNet(\n",
      "  (features): Sequential(\n",
      "    (0): Conv2d(3, 64, kernel_size=(11, 11), stride=(4, 4), padding=(2, 2))\n",
      "    (1): ReLU(inplace=True)\n",
      "    (2): MaxPool2d(kernel_size=3, stride=2, padding=0, dilation=1, ceil_mode=False)\n",
      "    (3): Conv2d(64, 192, kernel_size=(5, 5), stride=(1, 1), padding=(2, 2))\n",
      "    (4): ReLU(inplace=True)\n",
      "    (5): MaxPool2d(kernel_size=3, stride=2, padding=0, dilation=1, ceil_mode=False)\n",
      "    (6): Conv2d(192, 384, kernel_size=(3, 3), stride=(1, 1), padding=(1, 1))\n",
      "    (7): ReLU(inplace=True)\n",
      "    (8): Conv2d(384, 256, kernel_size=(3, 3), stride=(1, 1), padding=(1, 1))\n",
      "    (9): ReLU(inplace=True)\n",
      "    (10): Conv2d(256, 256, kernel_size=(3, 3), stride=(1, 1), padding=(1, 1))\n",
      "    (11): ReLU(inplace=True)\n",
      "    (12): MaxPool2d(kernel_size=3, stride=2, padding=0, dilation=1, ceil_mode=False)\n",
      "  )\n",
      "  (avgpool): AdaptiveAvgPool2d(output_size=(6, 6))\n",
      "  (classifier): Sequential(\n",
      "    (0): Linear(in_features=9216, out_features=100, bias=True)\n",
      "    (1): ReLU(inplace=True)\n",
      "    (2): Dropout(p=0.5, inplace=False)\n",
      "    (3): Linear(in_features=100, out_features=2, bias=True)\n",
      "  )\n",
      ")\n"
     ]
    }
   ],
   "source": [
    "print(model)"
   ]
  },
  {
   "cell_type": "code",
   "execution_count": 29,
   "id": "462abbd3-c6e0-4173-9c99-6d1a67d6e5a8",
   "metadata": {},
   "outputs": [
    {
     "data": {
      "text/html": [
       "<style type=\"text/css\">\n",
       "</style>\n",
       "<table id=\"T_2b066_\">\n",
       "  <caption>Total trainable: 921902, non trainable: 2469696 </caption>\n",
       "  <thead>\n",
       "    <tr>\n",
       "      <th class=\"blank level0\" >&nbsp;</th>\n",
       "      <th class=\"col_heading level0 col0\" >Modules</th>\n",
       "      <th class=\"col_heading level0 col1\" >Parameters</th>\n",
       "    </tr>\n",
       "  </thead>\n",
       "  <tbody>\n",
       "    <tr>\n",
       "      <th id=\"T_2b066_level0_row0\" class=\"row_heading level0 row0\" >0</th>\n",
       "      <td id=\"T_2b066_row0_col0\" class=\"data row0 col0\" >classifier.0.weight</td>\n",
       "      <td id=\"T_2b066_row0_col1\" class=\"data row0 col1\" >921600</td>\n",
       "    </tr>\n",
       "    <tr>\n",
       "      <th id=\"T_2b066_level0_row1\" class=\"row_heading level0 row1\" >1</th>\n",
       "      <td id=\"T_2b066_row1_col0\" class=\"data row1 col0\" >classifier.0.bias</td>\n",
       "      <td id=\"T_2b066_row1_col1\" class=\"data row1 col1\" >100</td>\n",
       "    </tr>\n",
       "    <tr>\n",
       "      <th id=\"T_2b066_level0_row2\" class=\"row_heading level0 row2\" >2</th>\n",
       "      <td id=\"T_2b066_row2_col0\" class=\"data row2 col0\" >classifier.3.weight</td>\n",
       "      <td id=\"T_2b066_row2_col1\" class=\"data row2 col1\" >200</td>\n",
       "    </tr>\n",
       "    <tr>\n",
       "      <th id=\"T_2b066_level0_row3\" class=\"row_heading level0 row3\" >3</th>\n",
       "      <td id=\"T_2b066_row3_col0\" class=\"data row3 col0\" >classifier.3.bias</td>\n",
       "      <td id=\"T_2b066_row3_col1\" class=\"data row3 col1\" >2</td>\n",
       "    </tr>\n",
       "  </tbody>\n",
       "</table>\n"
      ],
      "text/plain": [
       "<pandas.io.formats.style.Styler at 0x2f83348b288>"
      ]
     },
     "execution_count": 29,
     "metadata": {},
     "output_type": "execute_result"
    }
   ],
   "source": [
    "count_both_params(model)"
   ]
  },
  {
   "cell_type": "code",
   "execution_count": 30,
   "id": "adbe0f09-e319-4591-9fa2-b90b08b0bd03",
   "metadata": {},
   "outputs": [
    {
     "data": {
      "text/plain": [
       "'cuda'"
      ]
     },
     "execution_count": 30,
     "metadata": {},
     "output_type": "execute_result"
    }
   ],
   "source": [
    "device = \"cuda\" if torch.cuda.is_available() else \"cpu\"\n",
    "device"
   ]
  },
  {
   "cell_type": "markdown",
   "id": "4c14b1b9-f14f-4038-832d-01cbeb343d1f",
   "metadata": {},
   "source": [
    "## Training loop"
   ]
  },
  {
   "cell_type": "code",
   "execution_count": 31,
   "id": "94e061fa-e67a-47db-9ce5-0f535284e5ef",
   "metadata": {},
   "outputs": [],
   "source": [
    "num_epochs = 20\n",
    "\n",
    "model.to(device)\n",
    "\n",
    "criterion = nn.CrossEntropyLoss()\n",
    "optimizer = torch.optim.Adam(model.parameters())\n",
    "\n"
   ]
  },
  {
   "cell_type": "code",
   "execution_count": 32,
   "id": "f11061c0-65aa-4ae2-95a3-39bebc443046",
   "metadata": {},
   "outputs": [
    {
     "name": "stderr",
     "output_type": "stream",
     "text": [
      "Epoch 1/20: 100%|██████████████████████████████████████████████| 4/4 [00:44<00:00, 11.03s/it, loss=1.04]\n",
      "Epoch 2/20: 100%|█████████████████████████████████████████████| 4/4 [00:00<00:00,  4.27it/s, loss=0.576]\n",
      "Epoch 3/20: 100%|█████████████████████████████████████████████| 4/4 [00:01<00:00,  3.80it/s, loss=0.301]\n",
      "Epoch 4/20: 100%|█████████████████████████████████████████████| 4/4 [00:01<00:00,  2.87it/s, loss=0.286]\n",
      "Epoch 5/20: 100%|█████████████████████████████████████████████| 4/4 [00:01<00:00,  2.82it/s, loss=0.213]\n",
      "Epoch 6/20: 100%|█████████████████████████████████████████████| 4/4 [00:01<00:00,  2.84it/s, loss=0.174]\n",
      "Epoch 7/20: 100%|█████████████████████████████████████████████| 4/4 [00:01<00:00,  2.81it/s, loss=0.245]\n",
      "Epoch 8/20: 100%|████████████████████████████████████████████| 4/4 [00:01<00:00,  3.49it/s, loss=0.0831]\n",
      "Epoch 9/20: 100%|█████████████████████████████████████████████| 4/4 [00:01<00:00,  3.39it/s, loss=0.132]\n",
      "Epoch 10/20: 100%|███████████████████████████████████████████| 4/4 [00:01<00:00,  3.33it/s, loss=0.0857]\n",
      "Epoch 11/20: 100%|███████████████████████████████████████████| 4/4 [00:01<00:00,  3.49it/s, loss=0.0392]\n",
      "Epoch 12/20: 100%|███████████████████████████████████████████| 4/4 [00:01<00:00,  2.94it/s, loss=0.0953]\n",
      "Epoch 13/20: 100%|███████████████████████████████████████████| 4/4 [00:01<00:00,  2.99it/s, loss=0.0241]\n",
      "Epoch 14/20: 100%|███████████████████████████████████████████| 4/4 [00:01<00:00,  2.97it/s, loss=0.0382]\n",
      "Epoch 15/20: 100%|███████████████████████████████████████████| 4/4 [00:01<00:00,  3.02it/s, loss=0.0254]\n",
      "Epoch 16/20: 100%|███████████████████████████████████████████| 4/4 [00:01<00:00,  2.93it/s, loss=0.0179]\n",
      "Epoch 17/20: 100%|███████████████████████████████████████████| 4/4 [00:01<00:00,  3.13it/s, loss=0.0319]\n",
      "Epoch 18/20: 100%|███████████████████████████████████████████| 4/4 [00:01<00:00,  2.35it/s, loss=0.0109]\n",
      "Epoch 19/20: 100%|███████████████████████████████████████████| 4/4 [00:01<00:00,  2.71it/s, loss=0.0143]\n",
      "Epoch 20/20: 100%|████████████████████████████████████████████| 4/4 [00:01<00:00,  2.94it/s, loss=0.025]\n"
     ]
    }
   ],
   "source": [
    "for epoch in range(num_epochs):\n",
    "    with tqdm(train_loader) as tqdm_epoch:\n",
    "        for images, labels in tqdm_epoch:\n",
    "            tqdm_epoch.set_description(f\"Epoch {epoch + 1}/{num_epochs}\")\n",
    "            \n",
    "            images = images.to(device)\n",
    "            labels = labels.to(device)\n",
    "            \n",
    "            # forward pass\n",
    "            outputs = model(images)\n",
    "            loss = criterion(outputs, labels)\n",
    "            \n",
    "            # backward pass\n",
    "            optimizer.zero_grad()\n",
    "            loss.backward()\n",
    "            optimizer.step()\n",
    "            \n",
    "            tqdm_epoch.set_postfix(loss=loss.item())\n",
    "            "
   ]
  },
  {
   "cell_type": "code",
   "execution_count": 33,
   "id": "cdabc3af-1aed-48b7-b203-5d2dc574ab01",
   "metadata": {},
   "outputs": [],
   "source": [
    "ROOT_MODEL_DIR = \"Session_07_models\"\n",
    "os.makedirs(ROOT_MODEL_DIR, exist_ok=True)\n",
    "\n",
    "MODEL_FILE = \"Trans_model.pth\"\n",
    "MODEL_FILE_PATH = os.path.join(ROOT_MODEL_DIR, MODEL_FILE)\n",
    "\n",
    "\n",
    "torch.save(model, MODEL_FILE_PATH)"
   ]
  },
  {
   "cell_type": "markdown",
   "id": "6cf77723-6c7e-4375-bfae-abbf1bcb5a36",
   "metadata": {},
   "source": [
    "## Evaluate our model"
   ]
  },
  {
   "cell_type": "code",
   "execution_count": 43,
   "id": "e16c360e-af7d-46af-bc7d-271e71f94059",
   "metadata": {},
   "outputs": [],
   "source": [
    "pred = np.array([])\n",
    "target = np.array([])\n",
    "\n",
    "with torch.no_grad():\n",
    "    for batch, data in enumerate(test_loader):\n",
    "        image, label = data[0].to(device), data[1].to(device)\n",
    "        \n",
    "        y_pred = model(image)\n",
    "        \n",
    "        pred = np.concatenate((pred, torch.argmax(y_pred, 1).cpu().numpy()))\n",
    "        target = np.concatenate((target, label.cpu().numpy()))"
   ]
  },
  {
   "cell_type": "code",
   "execution_count": 44,
   "id": "c4bd8a4c-9059-4721-b092-85b0947f6280",
   "metadata": {},
   "outputs": [
    {
     "data": {
      "text/plain": [
       "<AxesSubplot:>"
      ]
     },
     "execution_count": 44,
     "metadata": {},
     "output_type": "execute_result"
    },
    {
     "data": {
      "image/png": "[encoded data removed]",
      "text/plain": [
       "<Figure size 432x288 with 1 Axes>"
      ]
     },
     "metadata": {},
     "output_type": "display_data"
    }
   ],
   "source": [
    "cm = confusion_matrix(target, pred)\n",
    "\n",
    "# plt.figure(fi)\n",
    "sns.heatmap(cm, annot=True, fmt='d', xticklabels=label_map.keys(), yticklabels=label_map.keys(), cbar=False)"
   ]
  },
  {
   "cell_type": "code",
   "execution_count": null,
   "id": "22b7159f-8bf1-42b5-83e4-365cf02b7e0f",
   "metadata": {},
   "outputs": [],
   "source": []
  }
 ],
 "metadata": {
  "kernelspec": {
   "display_name": "Python 3 (ipykernel)",
   "language": "python",
   "name": "python3"
  },
  "language_info": {
   "codemirror_mode": {
    "name": "ipython",
    "version": 3
   },
   "file_extension": ".py",
   "mimetype": "text/x-python",
   "name": "python",
   "nbconvert_exporter": "python",
   "pygments_lexer": "ipython3",
   "version": "3.7.11"
  }
 },
 "nbformat": 4,
 "nbformat_minor": 5
}
